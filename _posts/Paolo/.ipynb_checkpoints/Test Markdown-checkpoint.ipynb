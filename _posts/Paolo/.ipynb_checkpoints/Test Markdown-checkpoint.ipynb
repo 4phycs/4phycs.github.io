{
 "cells": [
  {
   "cell_type": "markdown",
   "metadata": {},
   "source": [
    "Probabilita' di avere una figlia femmina\n",
    "===============\n",
    "\n",
    "\n",
    "Mi sono imbattuto in questo interessante e \"semplice\" problema di statistica.\n",
    "Riassumo qui le considerazioni del video blog: https://www.youtube.com/watch?v=ElB350w8iJo\n",
    "\n",
    "Un'osservazione: e' molto importante la definizione della domanda che verra' posta,\n",
    "perche' ci sono vari dettagli che possono sfuggire.\n",
    "\n",
    "Vedremo inoltre una cosa molto interessante, **non e' sufficiente** pensare in termini di **popolazioni**, \n",
    "ma e' necessario pensare anche in termini di **come** queste popolazioni vengono **misurate**.\n",
    "\n",
    "Supponiamo di incontrare una persona in un bar, Tizio per gli amici. Durante una conversazione, \n",
    "Tizio ci dice che ha 2 figli (senza specificarne il sesso), a questo punto decide in darci \n",
    "due informazioni aggiuntive, una dopo l'altra:\n",
    "1. `almeno` uno di questi figli e' femmina  \n",
    "2. la propria figlia si chiama Jane (come la morosa di Tarzan).\n",
    "\n",
    "Quando il nostro interlocutore, che chiameremo Tizio, ci ha detto di avere almeno una\n",
    "figlia femmina quale probabilita' esiste che anhce il secondo figlio sia una femmina?\n",
    "\n",
    "\n",
    "\n",
    "\n",
    "\n",
    "\n",
    "\n",
    "  \n",
    "\n",
    "\n",
    "\n",
    "\n",
    "\n",
    "\n",
    "\n",
    "\n",
    "\n",
    "\n"
   ]
  }
 ],
 "metadata": {
  "kernelspec": {
   "display_name": "Python 3",
   "language": "python",
   "name": "python3"
  },
  "language_info": {
   "codemirror_mode": {
    "name": "ipython",
    "version": 3
   },
   "file_extension": ".py",
   "mimetype": "text/x-python",
   "name": "python",
   "nbconvert_exporter": "python",
   "pygments_lexer": "ipython3",
   "version": "3.4.5"
  }
 },
 "nbformat": 4,
 "nbformat_minor": 0
}
